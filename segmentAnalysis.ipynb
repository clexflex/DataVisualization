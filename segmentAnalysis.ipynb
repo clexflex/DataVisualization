{
 "cells": [
  {
   "cell_type": "code",
   "execution_count": 4,
   "metadata": {},
   "outputs": [
    {
     "data": {
      "application/vnd.plotly.v1+json": {
       "config": {
        "plotlyServerURL": "https://plot.ly"
       },
       "data": [
        {
         "labels": [
          "US",
          "Canada",
          "Mexico"
         ],
         "name": "Market Share by Country (2023)",
         "textinfo": "percent+label",
         "textposition": "inside",
         "type": "pie",
         "values": [
          635.015077389,
          204.76903265279998,
          48.970371958199934,
          888.754482
         ]
        },
        {
         "labels": [
          "Wall Mounted",
          "Built-In",
          "Fireplace Inserts",
          "Mantel/Freestanding",
          "Tabletop"
         ],
         "name": "Market Share by Type (2023)",
         "textinfo": "percent+label",
         "textposition": "inside",
         "type": "pie",
         "values": [
          348.9047638061,
          174.8753757112131,
          231.2832095641267,
          89.48058335170414,
          44.21054956685596
         ]
        },
        {
         "labels": [
          "Fixed",
          "Portable"
         ],
         "name": "Market Share by Installations (2023)",
         "textinfo": "percent+label",
         "textposition": "inside",
         "type": "pie",
         "values": [
          672.2318312985567,
          216.52265070144327,
          888.7544819999999
         ]
        },
        {
         "labels": [
          "Residential",
          "Commercial"
         ],
         "name": "Market Share by Application (2023)",
         "textinfo": "percent+label",
         "textposition": "inside",
         "type": "pie",
         "values": [
          693.729006934083,
          195.02547506591685,
          888.7544819999998
         ]
        },
        {
         "labels": [
          "US",
          "Canada",
          "Mexico"
         ],
         "name": "Market Share by Country (2024)",
         "textinfo": "percent+label",
         "textposition": "inside",
         "type": "pie",
         "values": [
          653.0495055868475,
          211.4035493107507,
          50.22891051752568,
          914.681965415124
         ]
        },
        {
         "labels": [
          "Wall Mounted",
          "Built-In",
          "Fireplace Inserts",
          "Mantel/Freestanding",
          "Tabletop"
         ],
         "name": "Market Share by Type (2024)",
         "textinfo": "percent+label",
         "textposition": "inside",
         "type": "pie",
         "values": [
          362.0826713680898,
          177.7746545681531,
          236.99934677621454,
          91.95408871733872,
          45.87120398532776
         ]
        },
        {
         "labels": [
          "Fixed",
          "Portable"
         ],
         "name": "Market Share by Installations (2024)",
         "textinfo": "percent+label",
         "textposition": "inside",
         "type": "pie",
         "values": [
          687.4466646458404,
          227.23530076928347,
          914.6819654151238
         ]
        },
        {
         "labels": [
          "Residential",
          "Commercial"
         ],
         "name": "Market Share by Application (2024)",
         "textinfo": "percent+label",
         "textposition": "inside",
         "type": "pie",
         "values": [
          711.6964379176958,
          202.98552749742817,
          914.681965415124
         ]
        },
        {
         "labels": [
          "US",
          "Canada",
          "Mexico"
         ],
         "name": "Market Share by Country (2025)",
         "textinfo": "percent+label",
         "textposition": "inside",
         "type": "pie",
         "values": [
          672.1185511499834,
          218.54898927745407,
          51.55495375518835,
          942.2224941826258
         ]
        },
        {
         "labels": [
          "Wall Mounted",
          "Built-In",
          "Fireplace Inserts",
          "Mantel/Freestanding",
          "Tabletop"
         ],
         "name": "Market Share by Type (2025)",
         "textinfo": "percent+label",
         "textposition": "inside",
         "type": "pie",
         "values": [
          376.1008495743057,
          180.88759785484888,
          243.07799917197903,
          94.58234741286222,
          47.57370016863007
         ]
        },
        {
         "labels": [
          "Fixed",
          "Portable"
         ],
         "name": "Market Share by Installations (2025)",
         "textinfo": "percent+label",
         "textposition": "inside",
         "type": "pie",
         "values": [
          703.6481689780909,
          238.57432520453497,
          942.2224941826258
         ]
        },
        {
         "labels": [
          "Residential",
          "Commercial"
         ],
         "name": "Market Share by Application (2025)",
         "textinfo": "percent+label",
         "textposition": "inside",
         "type": "pie",
         "values": [
          730.7970954767,
          211.42539870592591,
          942.2224941826258
         ]
        },
        {
         "labels": [
          "US",
          "Canada",
          "Mexico"
         ],
         "name": "Market Share by Country (2026)",
         "textinfo": "percent+label",
         "textposition": "inside",
         "type": "pie",
         "values": [
          692.8870143805178,
          226.4604626892979,
          53.00880345108466,
          972.3562805209004
         ]
        },
        {
         "labels": [
          "Wall Mounted",
          "Built-In",
          "Fireplace Inserts",
          "Mantel/Freestanding",
          "Tabletop"
         ],
         "name": "Market Share by Type (2026)",
         "textinfo": "percent+label",
         "textposition": "inside",
         "type": "pie",
         "values": [
          391.3727241790438,
          184.3905678065577,
          249.76605912838815,
          97.46300946235797,
          49.36391994455284
         ]
        },
        {
         "labels": [
          "Fixed",
          "Portable"
         ],
         "name": "Market Share by Installations (2026)",
         "textinfo": "percent+label",
         "textposition": "inside",
         "type": "pie",
         "values": [
          721.5438891531727,
          250.8123913677277,
          972.3562805209004
         ]
        },
        {
         "labels": [
          "Residential",
          "Commercial"
         ],
         "name": "Market Share by Application (2026)",
         "textinfo": "percent+label",
         "textposition": "inside",
         "type": "pie",
         "values": [
          751.7787964286215,
          220.5774840922789,
          972.3562805209003
         ]
        },
        {
         "labels": [
          "US",
          "Canada",
          "Mexico"
         ],
         "name": "Market Share by Country (2027)",
         "textinfo": "percent+label",
         "textposition": "inside",
         "type": "pie",
         "values": [
          716.7223276752077,
          235.5641732894077,
          54.689182520484046,
          1006.9756834850994
         ]
        },
        {
         "labels": [
          "Wall Mounted",
          "Built-In",
          "Fireplace Inserts",
          "Mantel/Freestanding",
          "Tabletop"
         ],
         "name": "Market Share by Type (2027)",
         "textinfo": "percent+label",
         "textposition": "inside",
         "type": "pie",
         "values": [
          408.69434468697926,
          188.62250872282783,
          257.53927513401885,
          100.78422020020362,
          51.33533474106985
         ]
        },
        {
         "labels": [
          "Fixed",
          "Portable"
         ],
         "name": "Market Share by Installations (2027)",
         "textinfo": "percent+label",
         "textposition": "inside",
         "type": "pie",
         "values": [
          742.4948593943984,
          264.480824090701,
          1006.9756834850994
         ]
        },
        {
         "labels": [
          "Residential",
          "Commercial"
         ],
         "name": "Market Share by Application (2027)",
         "textinfo": "percent+label",
         "textposition": "inside",
         "type": "pie",
         "values": [
          776.081580804597,
          230.8941026805025,
          1006.9756834850996
         ]
        },
        {
         "labels": [
          "US",
          "Canada",
          "Mexico"
         ],
         "name": "Market Share by Country (2028)",
         "textinfo": "percent+label",
         "textposition": "inside",
         "type": "pie",
         "values": [
          745.247876316681,
          246.44723809537834,
          56.72908902849811,
          1048.4242034405574
         ]
        },
        {
         "labels": [
          "Wall Mounted",
          "Built-In",
          "Fireplace Inserts",
          "Mantel/Freestanding",
          "Tabletop"
         ],
         "name": "Market Share by Type (2028)",
         "textinfo": "percent+label",
         "textposition": "inside",
         "type": "pie",
         "values": [
          429.0735569040793,
          193.98840558589305,
          266.98011591257057,
          104.7783313413889,
          53.603793696625615
         ]
        },
        {
         "labels": [
          "Fixed",
          "Portable"
         ],
         "name": "Market Share by Installations (2028)",
         "textinfo": "percent+label",
         "textposition": "inside",
         "type": "pie",
         "values": [
          768.1587752776304,
          280.2654281629271,
          1048.4242034405574
         ]
        },
        {
         "labels": [
          "Residential",
          "Commercial"
         ],
         "name": "Market Share by Application (2028)",
         "textinfo": "percent+label",
         "textposition": "inside",
         "type": "pie",
         "values": [
          805.4752308959573,
          242.94897254460005,
          1048.4242034405574
         ]
        },
        {
         "labels": [
          "US",
          "Canada",
          "Mexico"
         ],
         "name": "Market Share by Country (2029)",
         "textinfo": "percent+label",
         "textposition": "inside",
         "type": "pie",
         "values": [
          780.4981008664599,
          259.9771914668146,
          59.30458967039192,
          1099.7798820036664
         ]
        },
        {
         "labels": [
          "Wall Mounted",
          "Built-In",
          "Fireplace Inserts",
          "Mantel/Freestanding",
          "Tabletop"
         ],
         "name": "Market Share by Type (2029)",
         "textinfo": "percent+label",
         "textposition": "inside",
         "type": "pie",
         "values": [
          453.8552627471779,
          201.006869226348,
          278.8473051965419,
          109.75008108774946,
          56.32036374584912
         ]
        },
        {
         "labels": [
          "Fixed",
          "Portable"
         ],
         "name": "Market Share by Installations (2029)",
         "textinfo": "percent+label",
         "textposition": "inside",
         "type": "pie",
         "values": [
          800.6874670189428,
          299.0924149847236,
          1099.7798820036664
         ]
        },
        {
         "labels": [
          "Residential",
          "Commercial"
         ],
         "name": "Market Share by Application (2029)",
         "textinfo": "percent+label",
         "textposition": "inside",
         "type": "pie",
         "values": [
          842.2723984543129,
          257.5074835493535,
          1099.7798820036664
         ]
        },
        {
         "labels": [
          "US",
          "Canada",
          "Mexico"
         ],
         "name": "Market Share by Country (2030)",
         "textinfo": "percent+label",
         "textposition": "inside",
         "type": "pie",
         "values": [
          825.0645424259347,
          277.083690665331,
          62.66715990470314,
          1164.815392995969
         ]
        },
        {
         "labels": [
          "Wall Mounted",
          "Built-In",
          "Fireplace Inserts",
          "Mantel/Freestanding",
          "Tabletop"
         ],
         "name": "Market Share by Type (2030)",
         "textinfo": "percent+label",
         "textposition": "inside",
         "type": "pie",
         "values": [
          484.716998587925,
          210.2948582112154,
          294.06186277993044,
          116.07122791177125,
          59.67044550512674
         ]
        },
        {
         "labels": [
          "Fixed",
          "Portable"
         ],
         "name": "Market Share by Installations (2030)",
         "textinfo": "percent+label",
         "textposition": "inside",
         "type": "pie",
         "values": [
          842.6793796853281,
          322.13601331064075,
          1164.8153929959688
         ]
        },
        {
         "labels": [
          "Residential",
          "Commercial"
         ],
         "name": "Market Share by Application (2030)",
         "textinfo": "percent+label",
         "textposition": "inside",
         "type": "pie",
         "values": [
          889.2862164471452,
          275.5291765488237,
          1164.815392995969
         ]
        }
       ],
       "layout": {
        "template": {
         "data": {
          "bar": [
           {
            "error_x": {
             "color": "#2a3f5f"
            },
            "error_y": {
             "color": "#2a3f5f"
            },
            "marker": {
             "line": {
              "color": "#E5ECF6",
              "width": 0.5
             },
             "pattern": {
              "fillmode": "overlay",
              "size": 10,
              "solidity": 0.2
             }
            },
            "type": "bar"
           }
          ],
          "barpolar": [
           {
            "marker": {
             "line": {
              "color": "#E5ECF6",
              "width": 0.5
             },
             "pattern": {
              "fillmode": "overlay",
              "size": 10,
              "solidity": 0.2
             }
            },
            "type": "barpolar"
           }
          ],
          "carpet": [
           {
            "aaxis": {
             "endlinecolor": "#2a3f5f",
             "gridcolor": "white",
             "linecolor": "white",
             "minorgridcolor": "white",
             "startlinecolor": "#2a3f5f"
            },
            "baxis": {
             "endlinecolor": "#2a3f5f",
             "gridcolor": "white",
             "linecolor": "white",
             "minorgridcolor": "white",
             "startlinecolor": "#2a3f5f"
            },
            "type": "carpet"
           }
          ],
          "choropleth": [
           {
            "colorbar": {
             "outlinewidth": 0,
             "ticks": ""
            },
            "type": "choropleth"
           }
          ],
          "contour": [
           {
            "colorbar": {
             "outlinewidth": 0,
             "ticks": ""
            },
            "colorscale": [
             [
              0,
              "#0d0887"
             ],
             [
              0.1111111111111111,
              "#46039f"
             ],
             [
              0.2222222222222222,
              "#7201a8"
             ],
             [
              0.3333333333333333,
              "#9c179e"
             ],
             [
              0.4444444444444444,
              "#bd3786"
             ],
             [
              0.5555555555555556,
              "#d8576b"
             ],
             [
              0.6666666666666666,
              "#ed7953"
             ],
             [
              0.7777777777777778,
              "#fb9f3a"
             ],
             [
              0.8888888888888888,
              "#fdca26"
             ],
             [
              1,
              "#f0f921"
             ]
            ],
            "type": "contour"
           }
          ],
          "contourcarpet": [
           {
            "colorbar": {
             "outlinewidth": 0,
             "ticks": ""
            },
            "type": "contourcarpet"
           }
          ],
          "heatmap": [
           {
            "colorbar": {
             "outlinewidth": 0,
             "ticks": ""
            },
            "colorscale": [
             [
              0,
              "#0d0887"
             ],
             [
              0.1111111111111111,
              "#46039f"
             ],
             [
              0.2222222222222222,
              "#7201a8"
             ],
             [
              0.3333333333333333,
              "#9c179e"
             ],
             [
              0.4444444444444444,
              "#bd3786"
             ],
             [
              0.5555555555555556,
              "#d8576b"
             ],
             [
              0.6666666666666666,
              "#ed7953"
             ],
             [
              0.7777777777777778,
              "#fb9f3a"
             ],
             [
              0.8888888888888888,
              "#fdca26"
             ],
             [
              1,
              "#f0f921"
             ]
            ],
            "type": "heatmap"
           }
          ],
          "heatmapgl": [
           {
            "colorbar": {
             "outlinewidth": 0,
             "ticks": ""
            },
            "colorscale": [
             [
              0,
              "#0d0887"
             ],
             [
              0.1111111111111111,
              "#46039f"
             ],
             [
              0.2222222222222222,
              "#7201a8"
             ],
             [
              0.3333333333333333,
              "#9c179e"
             ],
             [
              0.4444444444444444,
              "#bd3786"
             ],
             [
              0.5555555555555556,
              "#d8576b"
             ],
             [
              0.6666666666666666,
              "#ed7953"
             ],
             [
              0.7777777777777778,
              "#fb9f3a"
             ],
             [
              0.8888888888888888,
              "#fdca26"
             ],
             [
              1,
              "#f0f921"
             ]
            ],
            "type": "heatmapgl"
           }
          ],
          "histogram": [
           {
            "marker": {
             "pattern": {
              "fillmode": "overlay",
              "size": 10,
              "solidity": 0.2
             }
            },
            "type": "histogram"
           }
          ],
          "histogram2d": [
           {
            "colorbar": {
             "outlinewidth": 0,
             "ticks": ""
            },
            "colorscale": [
             [
              0,
              "#0d0887"
             ],
             [
              0.1111111111111111,
              "#46039f"
             ],
             [
              0.2222222222222222,
              "#7201a8"
             ],
             [
              0.3333333333333333,
              "#9c179e"
             ],
             [
              0.4444444444444444,
              "#bd3786"
             ],
             [
              0.5555555555555556,
              "#d8576b"
             ],
             [
              0.6666666666666666,
              "#ed7953"
             ],
             [
              0.7777777777777778,
              "#fb9f3a"
             ],
             [
              0.8888888888888888,
              "#fdca26"
             ],
             [
              1,
              "#f0f921"
             ]
            ],
            "type": "histogram2d"
           }
          ],
          "histogram2dcontour": [
           {
            "colorbar": {
             "outlinewidth": 0,
             "ticks": ""
            },
            "colorscale": [
             [
              0,
              "#0d0887"
             ],
             [
              0.1111111111111111,
              "#46039f"
             ],
             [
              0.2222222222222222,
              "#7201a8"
             ],
             [
              0.3333333333333333,
              "#9c179e"
             ],
             [
              0.4444444444444444,
              "#bd3786"
             ],
             [
              0.5555555555555556,
              "#d8576b"
             ],
             [
              0.6666666666666666,
              "#ed7953"
             ],
             [
              0.7777777777777778,
              "#fb9f3a"
             ],
             [
              0.8888888888888888,
              "#fdca26"
             ],
             [
              1,
              "#f0f921"
             ]
            ],
            "type": "histogram2dcontour"
           }
          ],
          "mesh3d": [
           {
            "colorbar": {
             "outlinewidth": 0,
             "ticks": ""
            },
            "type": "mesh3d"
           }
          ],
          "parcoords": [
           {
            "line": {
             "colorbar": {
              "outlinewidth": 0,
              "ticks": ""
             }
            },
            "type": "parcoords"
           }
          ],
          "pie": [
           {
            "automargin": true,
            "type": "pie"
           }
          ],
          "scatter": [
           {
            "fillpattern": {
             "fillmode": "overlay",
             "size": 10,
             "solidity": 0.2
            },
            "type": "scatter"
           }
          ],
          "scatter3d": [
           {
            "line": {
             "colorbar": {
              "outlinewidth": 0,
              "ticks": ""
             }
            },
            "marker": {
             "colorbar": {
              "outlinewidth": 0,
              "ticks": ""
             }
            },
            "type": "scatter3d"
           }
          ],
          "scattercarpet": [
           {
            "marker": {
             "colorbar": {
              "outlinewidth": 0,
              "ticks": ""
             }
            },
            "type": "scattercarpet"
           }
          ],
          "scattergeo": [
           {
            "marker": {
             "colorbar": {
              "outlinewidth": 0,
              "ticks": ""
             }
            },
            "type": "scattergeo"
           }
          ],
          "scattergl": [
           {
            "marker": {
             "colorbar": {
              "outlinewidth": 0,
              "ticks": ""
             }
            },
            "type": "scattergl"
           }
          ],
          "scattermapbox": [
           {
            "marker": {
             "colorbar": {
              "outlinewidth": 0,
              "ticks": ""
             }
            },
            "type": "scattermapbox"
           }
          ],
          "scatterpolar": [
           {
            "marker": {
             "colorbar": {
              "outlinewidth": 0,
              "ticks": ""
             }
            },
            "type": "scatterpolar"
           }
          ],
          "scatterpolargl": [
           {
            "marker": {
             "colorbar": {
              "outlinewidth": 0,
              "ticks": ""
             }
            },
            "type": "scatterpolargl"
           }
          ],
          "scatterternary": [
           {
            "marker": {
             "colorbar": {
              "outlinewidth": 0,
              "ticks": ""
             }
            },
            "type": "scatterternary"
           }
          ],
          "surface": [
           {
            "colorbar": {
             "outlinewidth": 0,
             "ticks": ""
            },
            "colorscale": [
             [
              0,
              "#0d0887"
             ],
             [
              0.1111111111111111,
              "#46039f"
             ],
             [
              0.2222222222222222,
              "#7201a8"
             ],
             [
              0.3333333333333333,
              "#9c179e"
             ],
             [
              0.4444444444444444,
              "#bd3786"
             ],
             [
              0.5555555555555556,
              "#d8576b"
             ],
             [
              0.6666666666666666,
              "#ed7953"
             ],
             [
              0.7777777777777778,
              "#fb9f3a"
             ],
             [
              0.8888888888888888,
              "#fdca26"
             ],
             [
              1,
              "#f0f921"
             ]
            ],
            "type": "surface"
           }
          ],
          "table": [
           {
            "cells": {
             "fill": {
              "color": "#EBF0F8"
             },
             "line": {
              "color": "white"
             }
            },
            "header": {
             "fill": {
              "color": "#C8D4E3"
             },
             "line": {
              "color": "white"
             }
            },
            "type": "table"
           }
          ]
         },
         "layout": {
          "annotationdefaults": {
           "arrowcolor": "#2a3f5f",
           "arrowhead": 0,
           "arrowwidth": 1
          },
          "autotypenumbers": "strict",
          "coloraxis": {
           "colorbar": {
            "outlinewidth": 0,
            "ticks": ""
           }
          },
          "colorscale": {
           "diverging": [
            [
             0,
             "#8e0152"
            ],
            [
             0.1,
             "#c51b7d"
            ],
            [
             0.2,
             "#de77ae"
            ],
            [
             0.3,
             "#f1b6da"
            ],
            [
             0.4,
             "#fde0ef"
            ],
            [
             0.5,
             "#f7f7f7"
            ],
            [
             0.6,
             "#e6f5d0"
            ],
            [
             0.7,
             "#b8e186"
            ],
            [
             0.8,
             "#7fbc41"
            ],
            [
             0.9,
             "#4d9221"
            ],
            [
             1,
             "#276419"
            ]
           ],
           "sequential": [
            [
             0,
             "#0d0887"
            ],
            [
             0.1111111111111111,
             "#46039f"
            ],
            [
             0.2222222222222222,
             "#7201a8"
            ],
            [
             0.3333333333333333,
             "#9c179e"
            ],
            [
             0.4444444444444444,
             "#bd3786"
            ],
            [
             0.5555555555555556,
             "#d8576b"
            ],
            [
             0.6666666666666666,
             "#ed7953"
            ],
            [
             0.7777777777777778,
             "#fb9f3a"
            ],
            [
             0.8888888888888888,
             "#fdca26"
            ],
            [
             1,
             "#f0f921"
            ]
           ],
           "sequentialminus": [
            [
             0,
             "#0d0887"
            ],
            [
             0.1111111111111111,
             "#46039f"
            ],
            [
             0.2222222222222222,
             "#7201a8"
            ],
            [
             0.3333333333333333,
             "#9c179e"
            ],
            [
             0.4444444444444444,
             "#bd3786"
            ],
            [
             0.5555555555555556,
             "#d8576b"
            ],
            [
             0.6666666666666666,
             "#ed7953"
            ],
            [
             0.7777777777777778,
             "#fb9f3a"
            ],
            [
             0.8888888888888888,
             "#fdca26"
            ],
            [
             1,
             "#f0f921"
            ]
           ]
          },
          "colorway": [
           "#636efa",
           "#EF553B",
           "#00cc96",
           "#ab63fa",
           "#FFA15A",
           "#19d3f3",
           "#FF6692",
           "#B6E880",
           "#FF97FF",
           "#FECB52"
          ],
          "font": {
           "color": "#2a3f5f"
          },
          "geo": {
           "bgcolor": "white",
           "lakecolor": "white",
           "landcolor": "#E5ECF6",
           "showlakes": true,
           "showland": true,
           "subunitcolor": "white"
          },
          "hoverlabel": {
           "align": "left"
          },
          "hovermode": "closest",
          "mapbox": {
           "style": "light"
          },
          "paper_bgcolor": "white",
          "plot_bgcolor": "#E5ECF6",
          "polar": {
           "angularaxis": {
            "gridcolor": "white",
            "linecolor": "white",
            "ticks": ""
           },
           "bgcolor": "#E5ECF6",
           "radialaxis": {
            "gridcolor": "white",
            "linecolor": "white",
            "ticks": ""
           }
          },
          "scene": {
           "xaxis": {
            "backgroundcolor": "#E5ECF6",
            "gridcolor": "white",
            "gridwidth": 2,
            "linecolor": "white",
            "showbackground": true,
            "ticks": "",
            "zerolinecolor": "white"
           },
           "yaxis": {
            "backgroundcolor": "#E5ECF6",
            "gridcolor": "white",
            "gridwidth": 2,
            "linecolor": "white",
            "showbackground": true,
            "ticks": "",
            "zerolinecolor": "white"
           },
           "zaxis": {
            "backgroundcolor": "#E5ECF6",
            "gridcolor": "white",
            "gridwidth": 2,
            "linecolor": "white",
            "showbackground": true,
            "ticks": "",
            "zerolinecolor": "white"
           }
          },
          "shapedefaults": {
           "line": {
            "color": "#2a3f5f"
           }
          },
          "ternary": {
           "aaxis": {
            "gridcolor": "white",
            "linecolor": "white",
            "ticks": ""
           },
           "baxis": {
            "gridcolor": "white",
            "linecolor": "white",
            "ticks": ""
           },
           "bgcolor": "#E5ECF6",
           "caxis": {
            "gridcolor": "white",
            "linecolor": "white",
            "ticks": ""
           }
          },
          "title": {
           "x": 0.05
          },
          "xaxis": {
           "automargin": true,
           "gridcolor": "white",
           "linecolor": "white",
           "ticks": "",
           "title": {
            "standoff": 15
           },
           "zerolinecolor": "white",
           "zerolinewidth": 2
          },
          "yaxis": {
           "automargin": true,
           "gridcolor": "white",
           "linecolor": "white",
           "ticks": "",
           "title": {
            "standoff": 15
           },
           "zerolinecolor": "white",
           "zerolinewidth": 2
          }
         }
        },
        "title": {
         "text": "North America Electric Fireplace Market Segment Analysis"
        },
        "updatemenus": [
         {
          "active": 0,
          "buttons": [
           {
            "args": [
             {
              "visible": [
               true,
               true,
               true,
               true,
               false,
               false,
               false,
               false,
               false,
               false,
               false,
               false,
               false,
               false,
               false,
               false,
               false,
               false,
               false,
               false,
               false,
               false,
               false,
               false,
               false,
               false,
               false,
               false,
               false,
               false,
               false,
               false
              ]
             },
             {
              "title": "Market Analysis for 2023"
             }
            ],
            "label": "2023",
            "method": "update"
           },
           {
            "args": [
             {
              "visible": [
               false,
               false,
               false,
               false,
               true,
               true,
               true,
               true,
               false,
               false,
               false,
               false,
               false,
               false,
               false,
               false,
               false,
               false,
               false,
               false,
               false,
               false,
               false,
               false,
               false,
               false,
               false,
               false,
               false,
               false,
               false,
               false
              ]
             },
             {
              "title": "Market Analysis for 2024"
             }
            ],
            "label": "2024",
            "method": "update"
           },
           {
            "args": [
             {
              "visible": [
               false,
               false,
               false,
               false,
               false,
               false,
               false,
               false,
               true,
               true,
               true,
               true,
               false,
               false,
               false,
               false,
               false,
               false,
               false,
               false,
               false,
               false,
               false,
               false,
               false,
               false,
               false,
               false,
               false,
               false,
               false,
               false
              ]
             },
             {
              "title": "Market Analysis for 2025"
             }
            ],
            "label": "2025",
            "method": "update"
           },
           {
            "args": [
             {
              "visible": [
               false,
               false,
               false,
               false,
               false,
               false,
               false,
               false,
               false,
               false,
               false,
               false,
               true,
               true,
               true,
               true,
               false,
               false,
               false,
               false,
               false,
               false,
               false,
               false,
               false,
               false,
               false,
               false,
               false,
               false,
               false,
               false
              ]
             },
             {
              "title": "Market Analysis for 2026"
             }
            ],
            "label": "2026",
            "method": "update"
           },
           {
            "args": [
             {
              "visible": [
               false,
               false,
               false,
               false,
               false,
               false,
               false,
               false,
               false,
               false,
               false,
               false,
               false,
               false,
               false,
               false,
               true,
               true,
               true,
               true,
               false,
               false,
               false,
               false,
               false,
               false,
               false,
               false,
               false,
               false,
               false,
               false
              ]
             },
             {
              "title": "Market Analysis for 2027"
             }
            ],
            "label": "2027",
            "method": "update"
           },
           {
            "args": [
             {
              "visible": [
               false,
               false,
               false,
               false,
               false,
               false,
               false,
               false,
               false,
               false,
               false,
               false,
               false,
               false,
               false,
               false,
               false,
               false,
               false,
               false,
               true,
               true,
               true,
               true,
               false,
               false,
               false,
               false,
               false,
               false,
               false,
               false
              ]
             },
             {
              "title": "Market Analysis for 2028"
             }
            ],
            "label": "2028",
            "method": "update"
           },
           {
            "args": [
             {
              "visible": [
               false,
               false,
               false,
               false,
               false,
               false,
               false,
               false,
               false,
               false,
               false,
               false,
               false,
               false,
               false,
               false,
               false,
               false,
               false,
               false,
               false,
               false,
               false,
               false,
               true,
               true,
               true,
               true,
               false,
               false,
               false,
               false
              ]
             },
             {
              "title": "Market Analysis for 2029"
             }
            ],
            "label": "2029",
            "method": "update"
           },
           {
            "args": [
             {
              "visible": [
               false,
               false,
               false,
               false,
               false,
               false,
               false,
               false,
               false,
               false,
               false,
               false,
               false,
               false,
               false,
               false,
               false,
               false,
               false,
               false,
               false,
               false,
               false,
               false,
               false,
               false,
               false,
               false,
               true,
               true,
               true,
               true
              ]
             },
             {
              "title": "Market Analysis for 2030"
             }
            ],
            "label": "2030",
            "method": "update"
           }
          ],
          "x": 0.1,
          "xanchor": "left",
          "y": 1.1,
          "yanchor": "top"
         }
        ]
       }
      }
     },
     "metadata": {},
     "output_type": "display_data"
    }
   ],
   "source": [
    "import pandas as pd\n",
    "import plotly.graph_objects as go\n",
    "\n",
    "# Load the Excel file\n",
    "file_path = 'firemarket.xlsx'\n",
    "sheet_names = ['Table1', 'Table2', 'Table3', 'Table4', 'Table5', 'Table6', 'Table7']\n",
    "\n",
    "data = {sheet: pd.read_excel(file_path, sheet_name=sheet) for sheet in sheet_names}\n",
    "df_table3 = data['Table3']\n",
    "df_table4 = data['Table4']\n",
    "df_table5 = data['Table5']\n",
    "df_table6 = data['Table6']\n",
    "df_table7 = data['Table7']\n",
    "\n",
    "# Prepare the data for each year\n",
    "years = df_table3['North America Region'].tolist()\n",
    "\n",
    "# Initialize figure\n",
    "fig = go.Figure()\n",
    "\n",
    "# Define the function to create traces\n",
    "def create_pie_trace(table, year, labels, title):\n",
    "    values = table[table.iloc[:, 0] == year].iloc[0, 1:].values\n",
    "    return go.Pie(labels=labels, values=values, name=f'{title} ({year})')\n",
    "\n",
    "# Add pie chart traces for each table and year\n",
    "for year in years:\n",
    "    fig.add_trace(create_pie_trace(df_table4, year, ['US', 'Canada', 'Mexico'], 'Market Share by Country'))\n",
    "    fig.add_trace(create_pie_trace(df_table5, year, ['Wall Mounted', 'Built-In', 'Fireplace Inserts', 'Mantel/Freestanding', 'Tabletop'], 'Market Share by Type'))\n",
    "    fig.add_trace(create_pie_trace(df_table6, year, ['Fixed', 'Portable'], 'Market Share by Installations'))\n",
    "    fig.add_trace(create_pie_trace(df_table7, year, ['Residential', 'Commercial'], 'Market Share by Application'))\n",
    "\n",
    "# Create dropdown menus\n",
    "buttons = []\n",
    "for i, year in enumerate(years):\n",
    "    visibility = [False] * (4 * len(years))\n",
    "    visibility[i * 4:(i + 1) * 4] = [True, True, True, True]\n",
    "    buttons.append(dict(label=f'{year}', method='update', args=[{'visible': visibility}, {'title': f'Market Analysis for {year}'}]))\n",
    "\n",
    "# Update layout with dropdown menu\n",
    "fig.update_layout(\n",
    "    updatemenus=[dict(active=0, buttons=buttons, x=0.1, xanchor='left', y=1.1, yanchor='top')],\n",
    "    title_text='North America Electric Fireplace Market Segment Analysis'\n",
    ")\n",
    "\n",
    "# Update layout for the pie chart\n",
    "fig.update_traces(textposition='inside', textinfo='percent+label')\n",
    "\n",
    "# Show the plot\n",
    "fig.show()"
   ]
  },
  {
   "cell_type": "code",
   "execution_count": 3,
   "metadata": {},
   "outputs": [
    {
     "name": "stdout",
     "output_type": "stream",
     "text": [
      "   North America Region  Size in (USD Million)       YoY\n",
      "0                  2023             888.754482       NaN\n",
      "1                  2024             914.681965  0.029173\n",
      "2                  2025             942.222494  0.030109\n",
      "3                  2026             972.356281  0.031982\n",
      "4                  2027            1006.975683  0.035604\n",
      "5                  2028            1048.424203  0.041161\n",
      "6                  2029            1099.779882  0.048984\n",
      "7                  2030            1164.815393  0.059135\n"
     ]
    }
   ],
   "source": [
    "print(df_table3)"
   ]
  },
  {
   "cell_type": "code",
   "execution_count": null,
   "metadata": {},
   "outputs": [],
   "source": []
  },
  {
   "cell_type": "code",
   "execution_count": null,
   "metadata": {},
   "outputs": [],
   "source": []
  }
 ],
 "metadata": {
  "kernelspec": {
   "display_name": "base",
   "language": "python",
   "name": "python3"
  },
  "language_info": {
   "codemirror_mode": {
    "name": "ipython",
    "version": 3
   },
   "file_extension": ".py",
   "mimetype": "text/x-python",
   "name": "python",
   "nbconvert_exporter": "python",
   "pygments_lexer": "ipython3",
   "version": "3.9.10"
  }
 },
 "nbformat": 4,
 "nbformat_minor": 2
}
